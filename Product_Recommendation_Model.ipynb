{
  "cells": [
    {
      "cell_type": "code",
      "execution_count": 17,
      "metadata": {
        "id": "4UiYlVKix-51"
      },
      "outputs": [],
      "source": [
        "import torch\n",
        "import torch.nn.functional as F\n",
        "from tqdm import tqdm\n",
        "import pandas as pd\n",
        "import numpy as np\n",
        "import matplotlib.pyplot as plt"
      ]
    },
    {
      "cell_type": "code",
      "execution_count": 18,
      "metadata": {
        "colab": {
          "base_uri": "https://localhost:8080/"
        },
        "id": "hVqnxftNyU3r",
        "outputId": "2565dc70-ea46-48ff-de21-beba9c3c4e8e"
      },
      "outputs": [
        {
          "name": "stdout",
          "output_type": "stream",
          "text": [
            "cuda:0\n"
          ]
        }
      ],
      "source": [
        "# Create device agnostic code\n",
        "device = torch.device(\"cuda:0\" if torch.cuda.is_available() else \"cpu\")\n",
        "print(device)\n",
        "\n",
        "batch_size = 32\n",
        "epoch = 20"
      ]
    },
    {
      "cell_type": "markdown",
      "metadata": {
        "id": "IEIVGZ7rWxer"
      },
      "source": [
        "Load dataset"
      ]
    },
    {
      "cell_type": "code",
      "execution_count": 19,
      "metadata": {
        "id": "TtolPT24WHEj"
      },
      "outputs": [],
      "source": [
        "dataset = pd.read_csv(\"./database/dataset.csv\")\n",
        "dataset = dataset.values\n",
        "\n",
        "dataset = dataset.astype('uint8')\n",
        "\n",
        "dataset = torch.from_numpy(dataset)"
      ]
    },
    {
      "cell_type": "code",
      "execution_count": 20,
      "metadata": {
        "colab": {
          "base_uri": "https://localhost:8080/"
        },
        "id": "Y9wMPrVsWO1U",
        "outputId": "ecfcd363-d849-46bc-8838-ca33ae3996d2"
      },
      "outputs": [
        {
          "name": "stdout",
          "output_type": "stream",
          "text": [
            "torch.Size([68853, 5])\n",
            "order_id  product_id  order_dow  order_hour_of_day  reordered\n",
            "tensor([ 1, 99,  4, 10,  1], dtype=torch.uint8)\n",
            "tensor([ 1, 21,  4, 10,  2], dtype=torch.uint8)\n",
            "tensor([ 1, 94,  4, 10,  3], dtype=torch.uint8)\n",
            "tensor([ 1, 36,  4, 10,  5], dtype=torch.uint8)\n",
            "tensor([ 2, 57,  5,  9,  6], dtype=torch.uint8)\n",
            "tensor([ 2, 25,  5,  9,  7], dtype=torch.uint8)\n",
            "tensor([ 3, 41,  5, 17,  8], dtype=torch.uint8)\n",
            "tensor([ 3, 34,  5, 17,  9], dtype=torch.uint8)\n",
            "tensor([ 3, 90,  5, 17, 10], dtype=torch.uint8)\n",
            "tensor([ 5, 21,  6, 16, 21], dtype=torch.uint8)\n"
          ]
        }
      ],
      "source": [
        "print(dataset.shape)\n",
        "print(\"order_id  product_id  order_dow  order_hour_of_day  reordered\")\n",
        "for i in range(0, 10):\n",
        "  print(dataset[i])"
      ]
    },
    {
      "cell_type": "markdown",
      "metadata": {
        "id": "fAUgvExrXOhF"
      },
      "source": [
        "Process the data"
      ]
    },
    {
      "cell_type": "code",
      "execution_count": 21,
      "metadata": {
        "id": "I2HXTczVXSAL"
      },
      "outputs": [],
      "source": [
        "X = torch.zeros(size=(len(dataset),102,1), dtype=torch.uint8)\n",
        "y = torch.zeros(len(dataset), dtype=torch.uint8)\n",
        "\n",
        "def process():\n",
        "  for i in range(0,len(dataset)):\n",
        "    j = (int)(dataset[i][1])\n",
        "    X[i][j][0] = 1\n",
        "    X[i][100][0] = dataset[i][2]\n",
        "    X[i][101][0] = dataset[i][3]\n",
        "    y[i] = dataset[i][4]\n",
        "\n",
        "process()"
      ]
    },
    {
      "cell_type": "code",
      "execution_count": 22,
      "metadata": {
        "colab": {
          "base_uri": "https://localhost:8080/"
        },
        "id": "zBOmX8_zgZ4h",
        "outputId": "d606941c-2a55-4deb-eca5-8c0adc7dbd96"
      },
      "outputs": [
        {
          "name": "stdout",
          "output_type": "stream",
          "text": [
            "68853\n",
            "torch.Size([68853, 102, 1])\n",
            "68853\n"
          ]
        }
      ],
      "source": [
        "print(len(dataset))\n",
        "print(X.shape)\n",
        "print(len(X))"
      ]
    },
    {
      "cell_type": "markdown",
      "metadata": {
        "id": "8iPlNSZVYi26"
      },
      "source": [
        "Split the data into training, validation and testing set."
      ]
    },
    {
      "cell_type": "code",
      "execution_count": 23,
      "metadata": {
        "id": "AJfV9HsPYiWr"
      },
      "outputs": [],
      "source": [
        "def split_data():\n",
        "  \"\"\"\n",
        "  This is split function.\n",
        "  Split X into X_train, X_valid, X_test\n",
        "  Split y into y_train, y_valid, y_test\n",
        "  The number of X_train : X_valid : X_test is [98 : 1 : 1]\n",
        "  len(X_train) = 67476\n",
        "  len(X_valid) = 688\n",
        "  len(X_test) = 688\n",
        "  \"\"\"\n",
        "  random = np.random.permutation(len(X))    # random is a list that store the random number\n",
        "  train_size = int(0.98 * len(X))\n",
        "  valid_size = int(0.01 * len(X))\n",
        "  test_size = int(0.01 * len(X))\n",
        "\n",
        "  X_train = torch.zeros(size=(train_size,102,1), dtype=torch.float32)\n",
        "  X_valid = torch.zeros(size=(valid_size,102,1), dtype=torch.float32)\n",
        "  X_test = torch.zeros(size=(test_size+2,102,1), dtype=torch.float32)\n",
        "  y_train = torch.zeros(train_size)\n",
        "  y_valid = torch.zeros(valid_size)\n",
        "  y_test = torch.zeros(test_size+2)\n",
        "\n",
        "  for i in range(0, len(random)):\n",
        "    index = random[i]\n",
        "    if(i < train_size):\n",
        "      X_train[i] = X[index]\n",
        "      y_train[i] = y[index]\n",
        "    elif(i >= train_size and i < train_size + valid_size):\n",
        "      X_valid[i-train_size] = X[index]\n",
        "      y_valid[i-train_size] = y[index]\n",
        "    else:\n",
        "      X_test[i-train_size-valid_size] = X[index]\n",
        "      y_test[i-train_size-valid_size] = y[index]\n",
        "\n",
        "  return X_train, y_train, X_valid, y_valid, X_test, y_test\n",
        "\n",
        "X_train, y_train, X_valid, y_valid, X_test, y_test = split_data()\n",
        "\n",
        "y_train = y_train.type(torch.LongTensor)\n",
        "y_valid = y_valid.type(torch.LongTensor)\n",
        "y_test = y_test.type(torch.LongTensor)\n",
        "\n",
        "X_train = X_train.to(device)\n",
        "y_train = y_train.to(device)\n",
        "X_valid = X_valid.to(device)\n",
        "y_valid = y_valid.to(device)\n",
        "X_test = X_test.to(device)\n",
        "y_test = y_test.to(device)"
      ]
    },
    {
      "cell_type": "code",
      "execution_count": 24,
      "metadata": {
        "colab": {
          "base_uri": "https://localhost:8080/"
        },
        "id": "5umC0uZMqryO",
        "outputId": "bb6ea1f6-d1ce-4e84-af3d-63c151c4a7a0"
      },
      "outputs": [
        {
          "name": "stdout",
          "output_type": "stream",
          "text": [
            "torch.Size([67475, 102, 1])\n",
            "torch.Size([688, 102, 1])\n",
            "torch.Size([690, 102, 1])\n",
            "torch.float32\n",
            "torch.float32\n",
            "torch.float32\n"
          ]
        }
      ],
      "source": [
        "# X_train = X_train.view(-1,28*28)\n",
        "print(X_train.shape)\n",
        "print(X_valid.shape)\n",
        "print(X_test.shape)\n",
        "print(X_train.dtype)\n",
        "print(X_valid.dtype)\n",
        "print(X_test.dtype)"
      ]
    },
    {
      "cell_type": "code",
      "execution_count": 25,
      "metadata": {
        "id": "A2ioyKHQq1w2"
      },
      "outputs": [],
      "source": [
        "def batch():\n",
        "  X_train_batch = []\n",
        "  y_train_batch = []\n",
        "\n",
        "  batch_num = (int)(np.ceil(len(X_train)/batch_size))\n",
        "  X_mini_batch = torch.zeros(size=(batch_size,102,1), dtype=torch.float32)\n",
        "  y_mini_batch = torch.zeros(batch_size, dtype=torch.uint8)\n",
        "\n",
        "  for i in range(0, len(X_train)):\n",
        "    if i % batch_size == 0 and i != 0:\n",
        "      X_train_batch.append(X_mini_batch)\n",
        "      y_train_batch.append(y_mini_batch)\n",
        "      if len(X_train_batch) == batch_num - 1:\n",
        "        X_mini_batch = torch.zeros(size=(len(X_train)-batch_size*len(X_train_batch),102,1), dtype=torch.float32)\n",
        "        y_mini_batch = torch.zeros(len(X_train)-batch_size*len(X_train_batch), dtype=torch.uint8)\n",
        "      else:\n",
        "        X_mini_batch = torch.zeros(size=(batch_size,102,1), dtype=torch.float32)\n",
        "        y_mini_batch = torch.zeros(batch_size, dtype=torch.uint8)\n",
        "    elif i == len(X_train)-1:\n",
        "      X_train_batch.append(X_mini_batch)\n",
        "      y_train_batch.append(y_mini_batch)\n",
        "    \n",
        "    X_mini_batch[i % batch_size] = X_train[i]\n",
        "    y_mini_batch[i % batch_size] = y_train[i]\n",
        "\n",
        "  return X_train_batch, y_train_batch\n",
        "\n",
        "X_train_batch, y_train_batch = batch()"
      ]
    },
    {
      "cell_type": "markdown",
      "metadata": {
        "id": "YtAPW2VXy946"
      },
      "source": [
        "There are 100 Products (100 neurals)\n",
        "\n",
        "There are 24 hours (1 neural)\n",
        "\n",
        "There are 7 days (1 nerual)\n"
      ]
    },
    {
      "cell_type": "code",
      "execution_count": 26,
      "metadata": {
        "id": "ZGPus2BCxh-n"
      },
      "outputs": [],
      "source": [
        "class ProductRecommendModel(torch.nn.Module):\n",
        "    def __init__(self):\n",
        "      super(ProductRecommendModel,self).__init__()\n",
        "      self.layer1 = torch.nn.Linear(102,102)\n",
        "      self.layer2 = torch.nn.Linear(102,101)\n",
        "      self.layer3 = torch.nn.Linear(101,100)\n",
        "\n",
        "    def forward(self,x):\n",
        "      x = x.view(-1,102)\n",
        "      x = F.relu(self.layer1(x))\n",
        "      x = F.relu(self.layer2(x))\n",
        "\n",
        "      out = self.layer3(x)\n",
        "\n",
        "      return out\n",
        "\n",
        "\n",
        "product_recommend_model = ProductRecommendModel().to(device)"
      ]
    },
    {
      "cell_type": "code",
      "execution_count": 27,
      "metadata": {
        "id": "NH4YvO_KyCST"
      },
      "outputs": [],
      "source": [
        "criterion = torch.nn.CrossEntropyLoss()\n",
        "optimizer = torch.optim.SGD(product_recommend_model.parameters(),lr=0.01)\n",
        "\n",
        "train_loss = []     # The list of train loss\n",
        "valid_loss = []     # The list of validation loss\n",
        "train_accuracy = []   # The list of train accuracy\n",
        "valid_accuracy = []   # The list of valid accuracy"
      ]
    },
    {
      "cell_type": "code",
      "execution_count": 28,
      "metadata": {
        "id": "3aLaW_vnkJlo"
      },
      "outputs": [],
      "source": [
        "def train(epoch):\n",
        "  total = len(X_train)\n",
        "\n",
        "  with tqdm(range(0, len(X_train_batch))) as loop:\n",
        "    for i in loop:\n",
        "      loop.set_description(f\"Epoch {epoch}\")\n",
        "      optimizer.zero_grad()\n",
        "      outputs = product_recommend_model(X_train_batch[i].to(device))\n",
        "      loss = criterion(outputs, y_train_batch[i].to(device))\n",
        "      loss.backward()\n",
        "      optimizer.step()\n",
        "\n",
        "  correct = 0\n",
        "  total = len(X_train)\n",
        "  loss = 0.0\n",
        "  with torch.no_grad():\n",
        "    outputs = product_recommend_model(X_train)\n",
        "    loss = criterion(outputs, y_train)\n",
        "    _, predicted = torch.max(outputs.data, dim=1)\n",
        "    for i in range(0, len(predicted)):\n",
        "      if(predicted[i] == y_train[i]):\n",
        "        correct += 1\n",
        "  train_loss.append(loss.cpu().numpy())\n",
        "  train_accuracy.append(100*correct/total)\n"
      ]
    },
    {
      "cell_type": "code",
      "execution_count": 29,
      "metadata": {
        "id": "U6BSDXlTmE_T"
      },
      "outputs": [],
      "source": [
        "def valid(epoch):\n",
        "  correct = 0\n",
        "  total = len(X_valid)\n",
        "  loss = 0.0\n",
        "  with torch.no_grad():\n",
        "    outputs = product_recommend_model(X_valid)\n",
        "    loss = criterion(outputs, y_valid)\n",
        "    _, predicted = torch.max(outputs.data, dim=1)\n",
        "    for i in range(0, len(predicted)):\n",
        "      if(predicted[i] == y_valid[i]):\n",
        "        correct += 1\n",
        "  \n",
        "  valid_loss.append(loss.cpu().numpy())\n",
        "  valid_accuracy.append(100*correct/total)\n"
      ]
    },
    {
      "cell_type": "code",
      "execution_count": 30,
      "metadata": {
        "id": "1lIy59eJrMsf"
      },
      "outputs": [],
      "source": [
        "def test():\n",
        "  correct = 0\n",
        "  total = len(X_test)\n",
        "  with torch.no_grad():\n",
        "    outputs = product_recommend_model(X_test)\n",
        "    _, predicted = torch.max(outputs.data, dim=1)\n",
        "    for i in range(0, len(predicted)):\n",
        "      if(predicted[i] == y_test[i]):\n",
        "        correct += 1\n",
        "  print(f'Accuracy on test set: {100*correct/total:.3f}%')"
      ]
    },
    {
      "cell_type": "code",
      "execution_count": 31,
      "metadata": {
        "id": "RAtktIN8rPiu"
      },
      "outputs": [],
      "source": [
        "def plot_epoch_diff():\n",
        "  \"\"\"\n",
        "  a) Plot the both training loss and validation loss for each epochs.\n",
        "  b) Plot the both training accuracy and validation accuracy for each epochs.\n",
        "  \"\"\"\n",
        "  x = [a for a in range(1,epoch+1)]\n",
        "  plt.figure(figsize=(16, 6))\n",
        "  plt.subplot(1,2,1)\n",
        "  plt.plot(x,train_loss, label='training loss')\n",
        "  plt.plot(x,valid_loss, label='validation loss')\n",
        "  plt.xlabel('Epoch')\n",
        "  plt.ylabel('Loss')\n",
        "  plt.title(f'Loss Function in 3 Dense Layers Model', fontsize=14, fontweight='bold')\n",
        "  plt.legend()\n",
        "  # plt.xticks(ticks=x)\n",
        "\n",
        "  plt.subplot(1,2,2)\n",
        "  plt.plot(x,train_accuracy, label='training accuracy')\n",
        "  plt.plot(x,valid_accuracy, label='validation accuracy')\n",
        "  plt.xlabel('Epoch')\n",
        "  plt.ylabel('Accurate')\n",
        "  plt.title(f'Accuracy in 3 Dense Layers Model', fontsize=14, fontweight='bold')\n",
        "  plt.legend()\n",
        "  # plt.xticks(ticks=x)\n",
        "\n",
        "  plt.show()"
      ]
    },
    {
      "cell_type": "code",
      "execution_count": 32,
      "metadata": {
        "colab": {
          "base_uri": "https://localhost:8080/"
        },
        "id": "4GbvRVjksHQy",
        "outputId": "506d94c7-bb95-4061-8273-70f6128fb111"
      },
      "outputs": [
        {
          "name": "stderr",
          "output_type": "stream",
          "text": [
            "Epoch 1: 100%|██████████| 2109/2109 [00:06<00:00, 350.36it/s]\n",
            "Epoch 2: 100%|██████████| 2109/2109 [00:04<00:00, 431.24it/s]\n",
            "Epoch 3: 100%|██████████| 2109/2109 [00:04<00:00, 448.15it/s]\n",
            "Epoch 4: 100%|██████████| 2109/2109 [00:04<00:00, 423.55it/s]\n",
            "Epoch 5: 100%|██████████| 2109/2109 [00:04<00:00, 448.24it/s]\n",
            "Epoch 6: 100%|██████████| 2109/2109 [00:05<00:00, 419.75it/s]\n",
            "Epoch 7: 100%|██████████| 2109/2109 [00:05<00:00, 363.71it/s]\n",
            "Epoch 8: 100%|██████████| 2109/2109 [00:04<00:00, 424.50it/s]\n",
            "Epoch 9: 100%|██████████| 2109/2109 [00:05<00:00, 393.79it/s]\n",
            "Epoch 10: 100%|██████████| 2109/2109 [00:05<00:00, 418.31it/s]\n",
            "Epoch 11: 100%|██████████| 2109/2109 [00:05<00:00, 379.71it/s]\n",
            "Epoch 12: 100%|██████████| 2109/2109 [00:05<00:00, 418.41it/s]\n",
            "Epoch 13: 100%|██████████| 2109/2109 [00:06<00:00, 341.39it/s]\n",
            "Epoch 14: 100%|██████████| 2109/2109 [00:05<00:00, 415.43it/s]\n",
            "Epoch 15: 100%|██████████| 2109/2109 [00:04<00:00, 434.94it/s]\n",
            "Epoch 16: 100%|██████████| 2109/2109 [00:04<00:00, 431.87it/s]\n",
            "Epoch 17: 100%|██████████| 2109/2109 [00:04<00:00, 438.52it/s]\n",
            "Epoch 18: 100%|██████████| 2109/2109 [00:05<00:00, 418.25it/s]\n",
            "Epoch 19: 100%|██████████| 2109/2109 [00:05<00:00, 354.25it/s]\n",
            "Epoch 20: 100%|██████████| 2109/2109 [00:05<00:00, 409.95it/s]\n"
          ]
        },
        {
          "name": "stdout",
          "output_type": "stream",
          "text": [
            "Accuracy on test set: 10.725%\n"
          ]
        },
        {
          "data": {
            "image/png": "[encoded data removed]",
            "text/plain": [
              "<Figure size 1600x600 with 2 Axes>"
            ]
          },
          "metadata": {},
          "output_type": "display_data"
        }
      ],
      "source": [
        "def main():\n",
        "  for i in range(1, epoch+1):\n",
        "    train(i)\n",
        "    valid(i)\n",
        "  test()\n",
        "  plot_epoch_diff()\n",
        "\n",
        "main()"
      ]
    }
  ],
  "metadata": {
    "accelerator": "GPU",
    "colab": {
      "provenance": []
    },
    "gpuClass": "standard",
    "kernelspec": {
      "display_name": "base",
      "language": "python",
      "name": "python3"
    },
    "language_info": {
      "codemirror_mode": {
        "name": "ipython",
        "version": 3
      },
      "file_extension": ".py",
      "mimetype": "text/x-python",
      "name": "python",
      "nbconvert_exporter": "python",
      "pygments_lexer": "ipython3",
      "version": "3.9.16"
    },
    "vscode": {
      "interpreter": {
        "hash": "986ffff11d03bddd93be00f49cfbea0d26d480f8e8dc830918aee8930dea39ed"
      }
    }
  },
  "nbformat": 4,
  "nbformat_minor": 0
}
