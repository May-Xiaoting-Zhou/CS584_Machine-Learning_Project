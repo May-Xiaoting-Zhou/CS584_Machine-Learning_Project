{
  "cells": [
    {
      "cell_type": "code",
      "execution_count": 4,
      "metadata": {
        "id": "1zPDTX32GIqD"
      },
      "outputs": [],
      "source": [
        "import pandas as pd\n",
        "import numpy as np\n",
        "from tqdm import tqdm"
      ]
    },
    {
      "cell_type": "code",
      "execution_count": 5,
      "metadata": {
        "id": "GfGc35G-G3DE"
      },
      "outputs": [
        {
          "name": "stdout",
          "output_type": "stream",
          "text": [
            "   order_id  user_id eval_set  order_number  order_dow  order_hour_of_day  \\\n",
            "0   2539329        1    prior             1          2                  8   \n",
            "1   2398795        1    prior             2          3                  7   \n",
            "2    473747        1    prior             3          3                 12   \n",
            "3   2254736        1    prior             4          4                  7   \n",
            "4    431534        1    prior             5          4                 15   \n",
            "\n",
            "   days_since_prior_order  \n",
            "0                     NaN  \n",
            "1                    15.0  \n",
            "2                    21.0  \n",
            "3                    29.0  \n",
            "4                    28.0  \n"
          ]
        }
      ],
      "source": [
        "# Read the CSV file\n",
        "prior_data = pd.read_csv(\"./database/order_products__prior.csv\")\n",
        "train_data = pd.read_csv(\"./database/order_products__train.csv\")\n",
        "orders_data = pd.read_csv(\"./database/orders.csv\")\n",
        "products_data = pd.read_csv(\"./database/products.csv\")\n",
        "\n",
        "print(orders_data.head())\n",
        "\n",
        "prior_data = prior_data.values\n",
        "train_data = train_data.values\n",
        "orders_data = orders_data.values\n",
        "products_data = products_data.values"
      ]
    },
    {
      "cell_type": "markdown",
      "metadata": {
        "id": "iYRhGueTGpLi"
      },
      "source": [
        "Select Top 100 products"
      ]
    },
    {
      "cell_type": "code",
      "execution_count": 6,
      "metadata": {
        "id": "cvkvEqPgGssJ"
      },
      "outputs": [],
      "source": [
        "def reorder_Top_100_product_popular():\n",
        "    product_prior_data = prior_data[:,1]\n",
        "    product_train_data = train_data[:,1]\n",
        "    reordered_prior_data = prior_data[:,3]\n",
        "    reordered_train_data = prior_data[:,3]\n",
        "    product = np.concatenate((product_train_data, product_prior_data))\n",
        "    reorder = np.concatenate((reordered_prior_data, reordered_train_data))\n",
        "    reorder_Matrix = np.zeros(len(products_data[:,0])+1)\n",
        "    for i in range(0, len(product)):\n",
        "        if reorder[i] == 1:\n",
        "            reorder_Matrix[product[i]] += 1\n",
        "    dic = {}\n",
        "    for i in range(1, len(reorder_Matrix)):\n",
        "      dic[i-1] = (int)(reorder_Matrix[i])\n",
        "\n",
        "    sorted_dict = sorted(dic.items(), key=lambda x: x[1], reverse=True)\n",
        "    # print(sorted_dict)\n",
        "    top_100_popular_productsID = np.zeros((100,1),dtype=int)\n",
        "    for i in range(0, 100):\n",
        "      top_100_popular_productsID[i] = sorted_dict[i][0]+1\n",
        "    \n",
        "    return top_100_popular_productsID\n",
        "\n",
        "top_100_popular_productsID = reorder_Top_100_product_popular()"
      ]
    },
    {
      "cell_type": "markdown",
      "metadata": {
        "id": "jWfSO7rYJ6H1"
      },
      "source": [
        "Merge prior.csv file and train.csv file, and delete add_to_cart_order column"
      ]
    },
    {
      "cell_type": "code",
      "execution_count": 7,
      "metadata": {
        "id": "HoYs3475JzXG"
      },
      "outputs": [],
      "source": [
        "def mergeTwoFiles(train_data, prior_data):\n",
        "  m = len(train_data)\n",
        "  n = len(prior_data)\n",
        "  merged = np.zeros((m+n+1,3),dtype=int)\n",
        "  p1 = 0\n",
        "  p2 = 0\n",
        "  while p1 < m or p2 < n:\n",
        "    if p1 == m:\n",
        "      merged[p1+p2+1][0] = prior_data[p2][0]\n",
        "      merged[p1+p2+1][1] = prior_data[p2][1]\n",
        "      merged[p1+p2+1][2] = prior_data[p2][3]\n",
        "      p2 = p2 + 1\n",
        "    elif p2 == n:\n",
        "      merged[p1+p2+1][0] = prior_data[p1][0]\n",
        "      merged[p1+p2+1][1] = prior_data[p1][1]\n",
        "      merged[p1+p2+1][2] = prior_data[p1][3]\n",
        "      p1 = p1 + 1\n",
        "    elif train_data[p1][0] < prior_data[p2][0]:\n",
        "      merged[p1+p2+1][0] = train_data[p1][0]\n",
        "      merged[p1+p2+1][1] = train_data[p1][1]\n",
        "      merged[p1+p2+1][2] = train_data[p1][3]\n",
        "      p1 = p1 + 1\n",
        "    else:\n",
        "      merged[p1+p2+1][0] = prior_data[p2][0]\n",
        "      merged[p1+p2+1][1] = prior_data[p2][1]\n",
        "      merged[p1+p2+1][2] = prior_data[p2][3]\n",
        "      p2 = p2 + 1\n",
        "\n",
        "  return merged\n",
        "\n",
        "merged = mergeTwoFiles(train_data, prior_data)"
      ]
    },
    {
      "cell_type": "code",
      "execution_count": 8,
      "metadata": {
        "colab": {
          "base_uri": "https://localhost:8080/"
        },
        "id": "jVj74o0waO7C",
        "outputId": "0a9168fe-5404-43bb-86b1-3f424a4b696c"
      },
      "outputs": [
        {
          "data": {
            "text/plain": [
              "array([0, 0, 0])"
            ]
          },
          "execution_count": 8,
          "metadata": {},
          "output_type": "execute_result"
        }
      ],
      "source": [
        "merged[0]"
      ]
    },
    {
      "cell_type": "markdown",
      "metadata": {
        "id": "pcWf9TsoLIdE"
      },
      "source": [
        "Select Top 100 popular products from the whole order"
      ]
    },
    {
      "cell_type": "code",
      "execution_count": 9,
      "metadata": {
        "colab": {
          "base_uri": "https://localhost:8080/"
        },
        "id": "mEIZM32tLD-0",
        "outputId": "2c2145ed-b06d-435c-b13b-6ffee29c4732"
      },
      "outputs": [
        {
          "name": "stderr",
          "output_type": "stream",
          "text": [
            "100%|██████████| 299999/299999 [00:11<00:00, 26173.79it/s]\n"
          ]
        }
      ],
      "source": [
        "def dataset_Top_100():\n",
        "  # The whole dataset is 33,819,107\n",
        "  data_length = 300000  #3,000,000 (3/33) of the whole dataset\n",
        "  dataset_top_100 = np.zeros((len(merged)+1,3),dtype=int)\n",
        "  counter = 1\n",
        "  with tqdm(range(1, data_length)) as loop:\n",
        "    for i in loop:\n",
        "      for j in range(0, 100):\n",
        "        if merged[i][1] == top_100_popular_productsID[j][0]:\n",
        "          dataset_top_100[counter] = merged[i]\n",
        "          counter += 1\n",
        "          break\n",
        "  return dataset_top_100\n",
        "\n",
        "dataset = dataset_Top_100()"
      ]
    },
    {
      "cell_type": "code",
      "execution_count": 10,
      "metadata": {
        "id": "-xpdD_g5mtRD"
      },
      "outputs": [],
      "source": [
        "def resize_dataset_pos():\n",
        "  pos = 0\n",
        "  for i in range(1, len(dataset)):\n",
        "    if(dataset[i][0] == 0):\n",
        "      pos = i\n",
        "      break\n",
        "  return pos\n",
        "\n",
        "pos = resize_dataset_pos()"
      ]
    },
    {
      "cell_type": "code",
      "execution_count": 11,
      "metadata": {
        "id": "YJ24Y7R4lK3M"
      },
      "outputs": [],
      "source": [
        "dataset = np.resize(dataset,(pos,3))"
      ]
    },
    {
      "cell_type": "code",
      "execution_count": 12,
      "metadata": {
        "colab": {
          "base_uri": "https://localhost:8080/"
        },
        "id": "SZOHdL579FTe",
        "outputId": "a0cd6f2c-6cce-44a9-e665-5d5f254fe441"
      },
      "outputs": [
        {
          "name": "stdout",
          "output_type": "stream",
          "text": [
            "order_id\tproduct_id\treordered\n",
            "[0 0 0]\n",
            "[    1 49683     0]\n",
            "[    1 13176     0]\n",
            "[    1 47209     0]\n",
            "[    1 22035     1]\n",
            "[    2 28985     1]\n",
            "[    2 17794     1]\n",
            "[    3 24838     1]\n",
            "[    3 21903     1]\n",
            "[    3 46667     1]\n",
            "3421083\n"
          ]
        }
      ],
      "source": [
        "print(\"order_id\tproduct_id\treordered\")\n",
        "for i in range(0,10):\n",
        "  print(dataset[i])\n",
        "\n",
        "print(len(orders_data))"
      ]
    },
    {
      "cell_type": "code",
      "execution_count": 13,
      "metadata": {
        "id": "UQ5Nxl5fnnf7"
      },
      "outputs": [],
      "source": [
        "def sort_orders_data_by_orders():\n",
        "  dic = {}\n",
        "  for i in range(0, len(orders_data)):\n",
        "    dic[orders_data[i][0]] = orders_data[i]\n",
        "  \n",
        "  sorted_dict = sorted(dic.items(), key=lambda x: x[0])\n",
        "  for i in range(0, len(orders_data)):\n",
        "    orders_data[i] = sorted_dict[i][1]\n",
        "\n",
        "  return orders_data\n",
        "\n",
        "orders_data = sort_orders_data_by_orders()\n",
        "  "
      ]
    },
    {
      "cell_type": "code",
      "execution_count": 14,
      "metadata": {
        "colab": {
          "base_uri": "https://localhost:8080/"
        },
        "id": "kL0KMXYspRET",
        "outputId": "6ff00270-df3d-49e1-e917-e7d72385b436"
      },
      "outputs": [
        {
          "name": "stdout",
          "output_type": "stream",
          "text": [
            "order_id  user_id eval_set  order_number  order_dow  order_hour_of_day days_since_prior_order\n",
            "[1 112108 'train' 4 4 10 9.0]\n",
            "[2 202279 'prior' 3 5 9 8.0]\n",
            "[3 205970 'prior' 16 5 17 12.0]\n",
            "[4 178520 'prior' 36 1 9 7.0]\n",
            "[5 156122 'prior' 42 6 16 9.0]\n",
            "[6 22352 'prior' 4 1 12 30.0]\n",
            "[7 142903 'prior' 11 2 14 30.0]\n",
            "[8 3107 'prior' 5 4 6 17.0]\n",
            "[9 139016 'prior' 14 0 19 5.0]\n",
            "[10 135442 'prior' 4 6 8 8.0]\n",
            "3421083\n"
          ]
        }
      ],
      "source": [
        "print(\"order_id  user_id eval_set  order_number  order_dow  order_hour_of_day days_since_prior_order\")\n",
        "for i in range(0,10):\n",
        "  print(orders_data[i])\n",
        "\n",
        "print(len(orders_data))"
      ]
    },
    {
      "cell_type": "code",
      "execution_count": 15,
      "metadata": {
        "id": "dKYB-zNHsook"
      },
      "outputs": [],
      "source": [
        "def add_dow_and_hours():\n",
        "  final_dataset = np.zeros((len(dataset),5),dtype=int)\n",
        "  i = 1\n",
        "  j = 0\n",
        "  for i in range(1, len(dataset)):\n",
        "    final_dataset[i][0] = dataset[i][0]\n",
        "    final_dataset[i][1] = dataset[i][1]\n",
        "    final_dataset[i][2] = orders_data[dataset[i][0]-1][4]\n",
        "    final_dataset[i][3] = orders_data[dataset[i][0]-1][5]\n",
        "    final_dataset[i][4] = dataset[i][2]\n",
        "\n",
        "  return final_dataset\n",
        "\n",
        "final_dataset = add_dow_and_hours()"
      ]
    },
    {
      "cell_type": "code",
      "execution_count": 16,
      "metadata": {
        "colab": {
          "base_uri": "https://localhost:8080/"
        },
        "id": "McdTRElc7H1G",
        "outputId": "d0395cb0-eceb-4c4e-fc2c-69938ea50a3b"
      },
      "outputs": [
        {
          "name": "stdout",
          "output_type": "stream",
          "text": [
            "order_id  product_id  order_dow  order_hour_of_day  reordered\n",
            "[0 0 0 0 0]\n",
            "[    1 49683     4    10     0]\n",
            "[    1 13176     4    10     0]\n",
            "[    1 47209     4    10     0]\n",
            "[    1 22035     4    10     1]\n",
            "[    2 28985     5     9     1]\n",
            "[    2 17794     5     9     1]\n",
            "[    3 24838     5    17     1]\n",
            "[    3 21903     5    17     1]\n",
            "[    3 46667     5    17     1]\n",
            "[    5 13176     6    16     1]\n",
            "[    5 27966     6    16     1]\n",
            "[    5 23909     6    16     1]\n",
            "[    5 47209     6    16     0]\n",
            "[    9 31506     0    19     1]\n"
          ]
        }
      ],
      "source": [
        "print(\"order_id  product_id  order_dow  order_hour_of_day  reordered\")\n",
        "for i in range(0,15):\n",
        "  print(final_dataset[i])"
      ]
    },
    {
      "cell_type": "code",
      "execution_count": 17,
      "metadata": {
        "id": "7G7lLG3lGUO_"
      },
      "outputs": [],
      "source": [
        "top_100_popular_productsID = np.sort(np.resize(top_100_popular_productsID,(100,)))"
      ]
    },
    {
      "cell_type": "code",
      "execution_count": 18,
      "metadata": {
        "id": "HUDIEyoJAmlx"
      },
      "outputs": [],
      "source": [
        "def new_product_table():\n",
        "  dic = {}\n",
        "  new_products = []\n",
        "  j = 0\n",
        "  for i in range(0, len(products_data)):\n",
        "    if products_data[i][0] == top_100_popular_productsID[j]:\n",
        "      new_products.append([top_100_popular_productsID[j],products_data[i][1]])\n",
        "      j = j + 1\n",
        "    if j == 100:\n",
        "      break\n",
        "  return new_products\n",
        "\n",
        "new_products = new_product_table()"
      ]
    },
    {
      "cell_type": "code",
      "execution_count": 19,
      "metadata": {
        "colab": {
          "base_uri": "https://localhost:8080/"
        },
        "id": "kVtUROWgDlX4",
        "outputId": "05e6b326-5a9b-4f73-9040-57d3c0b86842"
      },
      "outputs": [
        {
          "name": "stdout",
          "output_type": "stream",
          "text": [
            "[196, 'Soda']\n",
            "[49683, 'Cucumber Kirby']\n"
          ]
        }
      ],
      "source": [
        "print(new_products[0])\n",
        "print(new_products[-1])"
      ]
    },
    {
      "cell_type": "code",
      "execution_count": 20,
      "metadata": {
        "id": "3KukwK4FMzVO"
      },
      "outputs": [],
      "source": [
        "def rename_productID():\n",
        "  for i in range(0, len(final_dataset)):\n",
        "    for j in range(0, len(new_products)):\n",
        "      if final_dataset[i][1] == new_products[j][0]:\n",
        "        final_dataset[i][1] = j + 1\n",
        "        break\n",
        "  # change to 100 classifier\n",
        "  for i in range(0, len(final_dataset)):\n",
        "    final_dataset[i][1] = final_dataset[i][1]-1\n",
        "    if i%10 == 0:\n",
        "      final_dataset[i][4] = final_dataset[i][1]\n",
        "    else:\n",
        "      final_dataset[i][4] = final_dataset[i][4]+i%10\n",
        "rename_productID()"
      ]
    },
    {
      "cell_type": "code",
      "execution_count": 21,
      "metadata": {
        "id": "Jcd5czjpPaoG"
      },
      "outputs": [],
      "source": [
        "for i in range(0,len(new_products)):\n",
        "  new_products[i][0] = i+1"
      ]
    },
    {
      "cell_type": "markdown",
      "metadata": {
        "id": "V8qeuN-k9zG3"
      },
      "source": [
        "Save the final version as dataset.\n",
        "\n",
        "order_id\n",
        "product_id\n",
        "order_dow\n",
        "order_hour_of_day\n",
        "reordered"
      ]
    },
    {
      "cell_type": "code",
      "execution_count": 22,
      "metadata": {
        "id": "SEukz_cS7hWu"
      },
      "outputs": [],
      "source": [
        "np.savetxt('./database/dataset.csv', final_dataset, delimiter=',',fmt='%d')"
      ]
    },
    {
      "cell_type": "code",
      "execution_count": 23,
      "metadata": {
        "id": "l8taWhrgP8Od"
      },
      "outputs": [],
      "source": [
        "name = ['productID','productName']\n",
        "new_products_table = pd.DataFrame(columns=name,data=new_products)\n",
        "new_products_table.to_csv('./database/new_porducts.csv')"
      ]
    }
  ],
  "metadata": {
    "colab": {
      "provenance": []
    },
    "kernelspec": {
      "display_name": "base",
      "language": "python",
      "name": "python3"
    },
    "language_info": {
      "codemirror_mode": {
        "name": "ipython",
        "version": 3
      },
      "file_extension": ".py",
      "mimetype": "text/x-python",
      "name": "python",
      "nbconvert_exporter": "python",
      "pygments_lexer": "ipython3",
      "version": "3.9.16"
    },
    "vscode": {
      "interpreter": {
        "hash": "986ffff11d03bddd93be00f49cfbea0d26d480f8e8dc830918aee8930dea39ed"
      }
    }
  },
  "nbformat": 4,
  "nbformat_minor": 0
}
